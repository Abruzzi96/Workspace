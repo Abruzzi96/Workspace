{
 "cells": [
  {
   "cell_type": "code",
   "execution_count": 6,
   "metadata": {},
   "outputs": [],
   "source": [
    "howMany = int(input(\"How many person it would be ?\"))\n",
    "persons = []\n",
    "for i in range(howMany):\n",
    "    name = input(\"Enter a Name : \")\n",
    "    surname = input(\"Enter a Surname : \")\n",
    "    age = input(\"Enter an Age : \")\n",
    "\n",
    "    person = [name, surname, age]\n",
    "    persons.append(person)\n",
    "\n",
    "\n",
    "f=open(\"persons.txt\", \"w\")\n",
    "for i in persons:\n",
    "    f.write(\"Name:\"+i[0])\n",
    "    f.write(\"\\nSurname:\"+i[1])\n",
    "    f.write(\"\\nAge:\" + i[2]+\"\\n\\n\")\n",
    "f.close()\n"
   ]
  },
  {
   "cell_type": "code",
   "execution_count": 18,
   "metadata": {},
   "outputs": [
    {
     "data": {
      "text/plain": [
       "[['Ahmet', 'Mehmet', '25'],\n",
       " ['Erol', 'Guvercin', '35'],\n",
       " ['Guvercin', 'Uvercinka', '45']]"
      ]
     },
     "execution_count": 18,
     "metadata": {},
     "output_type": "execute_result"
    }
   ],
   "source": [
    "f=open(\"persons.txt\", \"r\")\n",
    "persons = []\n",
    "person = []\n",
    "\n",
    "for i in f:\n",
    "    i = i.replace(\"\\n\", \"\")\n",
    "    x = i.split(\":\")\n",
    "\n",
    "    if len(x) == 1:\n",
    "        continue\n",
    "\n",
    "    person.append(x[1])\n",
    "\n",
    "    if len(person) == 3:\n",
    "        persons.append(person)\n",
    "        person = []\n",
    "f.close()\n",
    "\n",
    "persons"
   ]
  }
 ],
 "metadata": {
  "kernelspec": {
   "display_name": "Python 3.10.8 64-bit",
   "language": "python",
   "name": "python3"
  },
  "language_info": {
   "codemirror_mode": {
    "name": "ipython",
    "version": 3
   },
   "file_extension": ".py",
   "mimetype": "text/x-python",
   "name": "python",
   "nbconvert_exporter": "python",
   "pygments_lexer": "ipython3",
   "version": "3.10.8"
  },
  "orig_nbformat": 4,
  "vscode": {
   "interpreter": {
    "hash": "0d16ba4b53609843de40e7f26596a7b92c4c8638579f14216398d65ad12ac973"
   }
  }
 },
 "nbformat": 4,
 "nbformat_minor": 2
}
