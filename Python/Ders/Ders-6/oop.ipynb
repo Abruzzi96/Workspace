{
 "cells": [
  {
   "cell_type": "code",
   "execution_count": null,
   "metadata": {},
   "outputs": [],
   "source": [
    "class Parrot:\n",
    "    pass"
   ]
  },
  {
   "cell_type": "code",
   "execution_count": null,
   "metadata": {},
   "outputs": [],
   "source": [
    "obj = Parrot()"
   ]
  },
  {
   "cell_type": "code",
   "execution_count": null,
   "metadata": {},
   "outputs": [],
   "source": [
    "class Parrot:\n",
    "    # class attribute\n",
    "    species = \"Bird\"\n",
    "\n",
    "    # constructor\n",
    "    def __init__(self, name, age):\n",
    "        self.name = name\n",
    "        self.age = age\n",
    "\n",
    "blu = Parrot(\"Blu\",10)\n",
    "woo = Parrot(\"Woo\",15)\n",
    "\n",
    "print(f\"Blu is a {blu.species}\")\n",
    "print(f\"Woo is a {woo.__class__.species}\")\n",
    "\n",
    "print(f\"Blu is {blu.age} years old\")\n",
    "print(f\"Woo is {woo.age} years old\")\n"
   ]
  },
  {
   "cell_type": "code",
   "execution_count": 8,
   "metadata": {},
   "outputs": [],
   "source": [
    "class Bird:\n",
    "    def __init__(self):\n",
    "        print(\"Bird is ready!\")\n",
    "    \n",
    "    def whoIsThis(self):\n",
    "        print(\"Bird\")\n",
    "\n",
    "    def swim(self):\n",
    "        print(\"Cannot swim!\")\n",
    "\n",
    "class Penguin(Bird):\n",
    "    def __init__(self):\n",
    "        super().__init__()\n",
    "        print(\"Penguin is ready!\")\n",
    "\n",
    "    def whoIsThis(self):\n",
    "        print(\"Penguin\")\n",
    "\n",
    "    def run(self):\n",
    "        print(\"Can Run!\")\n"
   ]
  },
  {
   "cell_type": "code",
   "execution_count": 9,
   "metadata": {},
   "outputs": [
    {
     "name": "stdout",
     "output_type": "stream",
     "text": [
      "Bird is ready!\n",
      "Penguin is ready!\n",
      "Penguin\n",
      "Cannot swim!\n",
      "Can Run!\n"
     ]
    }
   ],
   "source": [
    "peggy = Penguin()\n",
    "peggy.whoIsThis()\n",
    "peggy.swim()\n",
    "peggy.run()"
   ]
  },
  {
   "cell_type": "code",
   "execution_count": 12,
   "metadata": {},
   "outputs": [],
   "source": [
    "class Person:\n",
    "    def __init__(self, name, surname, age):\n",
    "        self.name = name\n",
    "        self.surname = surname\n",
    "        self.age = age\n",
    "    \n",
    "    def __str__(self):\n",
    "        print(\"Name:\", self.name)\n",
    "        print(\"Surname:\", self.surname)\n",
    "        print(\"Age:\", self.age)\n",
    "        "
   ]
  },
  {
   "cell_type": "code",
   "execution_count": 13,
   "metadata": {},
   "outputs": [],
   "source": [
    "class Student(Person):\n",
    "    def __init__(self, name, surname, age, department):\n",
    "        super().__init__(name,surname,age)\n",
    "        self.department = department\n",
    "\n",
    "    def __str__(self):\n",
    "        print(\"Name:\",self.name)\n",
    "        print(\"Surname:\",self.surname)\n",
    "        print(\"Age:\",self.age)\n",
    "        print(\"Department:\",self.department)\n",
    "\n",
    "    def __add__(self,other):\n",
    "        pass"
   ]
  },
  {
   "cell_type": "code",
   "execution_count": 14,
   "metadata": {},
   "outputs": [
    {
     "name": "stdout",
     "output_type": "stream",
     "text": [
      "Name: mert\n",
      "Surname: tatar\n",
      "Age: 25\n",
      "Department: CS\n"
     ]
    }
   ],
   "source": [
    "mert = Student(\"mert\", \"tatar\", 25, \"CS\")\n",
    "ayberk = Student(\"ayberk\", \"saygi\", 25, \"CS\")\n",
    "\n",
    "try:\n",
    "    print(mert)\n",
    "except:\n",
    "    pass\n"
   ]
  },
  {
   "cell_type": "code",
   "execution_count": 15,
   "metadata": {},
   "outputs": [],
   "source": [
    "class Computer:\n",
    "    def __init__(self):\n",
    "        self.__maxPrice = 900\n",
    "\n",
    "    def sell(self):\n",
    "        print(f\"Selling price: {self.__maxPrice}\")\n",
    "\n",
    "    def setMaxPrice(self,price):\n",
    "        self.__maxPrice = price"
   ]
  },
  {
   "cell_type": "code",
   "execution_count": 19,
   "metadata": {},
   "outputs": [
    {
     "name": "stdout",
     "output_type": "stream",
     "text": [
      "Selling price: 900\n",
      "Selling price: 900\n",
      "Selling price: 1000\n"
     ]
    }
   ],
   "source": [
    "c = Computer()\n",
    "\n",
    "c.sell()\n",
    "\n",
    "c.__maxPrice = 1000\n",
    "c.sell()\n",
    "\n",
    "c.setMaxPrice(1000)\n",
    "c.sell()"
   ]
  },
  {
   "cell_type": "code",
   "execution_count": 20,
   "metadata": {},
   "outputs": [
    {
     "name": "stdout",
     "output_type": "stream",
     "text": [
      "Parrot can fly!\n",
      "Penguin cant fly!\n"
     ]
    }
   ],
   "source": [
    "class Parrot:\n",
    "    def fly(self):\n",
    "        print(\"Parrot can fly!\")\n",
    "\n",
    "    def swim(self):\n",
    "        print(\"Parrot can't swim!\")\n",
    "\n",
    "class Penguin:\n",
    "    def fly(self):\n",
    "        print(\"Penguin cant fly!\")\n",
    "\n",
    "    def swim(self):\n",
    "        print(\"Penguin can swim!\")\n",
    "\n",
    "#common interface\n",
    "def flyingTest(bird):\n",
    "    bird.fly()\n",
    "\n",
    "A = Parrot()\n",
    "B = Penguin()\n",
    "\n",
    "flyingTest(A)\n",
    "flyingTest(B)"
   ]
  },
  {
   "cell_type": "code",
   "execution_count": 23,
   "metadata": {},
   "outputs": [
    {
     "ename": "NameError",
     "evalue": "name 'A' is not defined",
     "output_type": "error",
     "traceback": [
      "\u001b[1;31m---------------------------------------------------------------------------\u001b[0m",
      "\u001b[1;31mNameError\u001b[0m                                 Traceback (most recent call last)",
      "Cell \u001b[1;32mIn [23], line 1\u001b[0m\n\u001b[1;32m----> 1\u001b[0m \u001b[39mprint\u001b[39m(A)\n",
      "\u001b[1;31mNameError\u001b[0m: name 'A' is not defined"
     ]
    }
   ],
   "source": [
    "del A\n",
    "print(A)"
   ]
  },
  {
   "cell_type": "code",
   "execution_count": null,
   "metadata": {},
   "outputs": [],
   "source": []
  }
 ],
 "metadata": {
  "kernelspec": {
   "display_name": "Python 3.10.8 64-bit",
   "language": "python",
   "name": "python3"
  },
  "language_info": {
   "codemirror_mode": {
    "name": "ipython",
    "version": 3
   },
   "file_extension": ".py",
   "mimetype": "text/x-python",
   "name": "python",
   "nbconvert_exporter": "python",
   "pygments_lexer": "ipython3",
   "version": "3.10.8"
  },
  "orig_nbformat": 4,
  "vscode": {
   "interpreter": {
    "hash": "0d16ba4b53609843de40e7f26596a7b92c4c8638579f14216398d65ad12ac973"
   }
  }
 },
 "nbformat": 4,
 "nbformat_minor": 2
}
