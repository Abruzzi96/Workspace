{
 "cells": [
  {
   "cell_type": "code",
   "execution_count": null,
   "metadata": {},
   "outputs": [],
   "source": [
    "num1 = 10\n",
    "num2 = 2.7\n",
    "num3 = 2j+6\n",
    "num4 = 0b111\n",
    "num5 = 0xAA\n",
    "name = \"Mert\"\n",
    "\n",
    "print(name)"
   ]
  },
  {
   "cell_type": "code",
   "execution_count": null,
   "metadata": {},
   "outputs": [],
   "source": [
    "a, b, c, = 5,3,4\n",
    "\n",
    "a"
   ]
  },
  {
   "cell_type": "code",
   "execution_count": null,
   "metadata": {},
   "outputs": [],
   "source": [
    "x = y = z = \"Same\"\n",
    "\n",
    "print(x, y, z)"
   ]
  },
  {
   "cell_type": "code",
   "execution_count": null,
   "metadata": {},
   "outputs": [],
   "source": [
    "x = (1 == True)\n",
    "y = (1 == False)\n",
    "a = True + 4\n",
    "b = False + 10\n",
    "\n",
    "print(a)\n",
    "print(b)\n",
    "print(x)\n",
    "print(y)"
   ]
  },
  {
   "cell_type": "code",
   "execution_count": null,
   "metadata": {},
   "outputs": [],
   "source": [
    "fruits = [\"apple\",\"mango\",\"orange\"] # list\n",
    "fruits.append(\"Banana\")\n",
    "fruits[0] = 220\n",
    "print(fruits)\n",
    "\n",
    "numbers = (1,2,3) # tuple\n",
    "\n",
    "students = {1:\"Ayberk\",2:\"Mert\",3:\"Mehmet\"} # dictionary\n",
    "\n",
    "vowels = {'a','e','ı', 'ı', 'a'} #set"
   ]
  },
  {
   "cell_type": "code",
   "execution_count": null,
   "metadata": {},
   "outputs": [],
   "source": [
    "age = 30\n",
    "print(\"My age is \" + str(age))\n",
    "print(\"My age is\", age)"
   ]
  },
  {
   "cell_type": "code",
   "execution_count": null,
   "metadata": {},
   "outputs": [],
   "source": [
    "print(\"Line-1\", end = \" \")\n",
    "print(\"Line-2\")"
   ]
  },
  {
   "cell_type": "code",
   "execution_count": null,
   "metadata": {},
   "outputs": [],
   "source": [
    "n = 5\n",
    "y = 6\n",
    "print(\"The value of n\", n ,\"and y's: \", y)"
   ]
  },
  {
   "cell_type": "code",
   "execution_count": null,
   "metadata": {},
   "outputs": [],
   "source": [
    "x = 5; y = 10\n",
    "\n",
    "print(\"The value of x is {}, and y is {}\".format(x,y))\n",
    "print(f\"The value of x is {x}, and y is {y}\")"
   ]
  },
  {
   "cell_type": "code",
   "execution_count": null,
   "metadata": {},
   "outputs": [],
   "source": [
    "num1 = int(input(\"Enter a number: \"))\n",
    "num2 = int(input(\"Enter a number: \"))\n",
    "\n",
    "print(\"Num1 + Num2 =\", num1+num2)"
   ]
  },
  {
   "cell_type": "code",
   "execution_count": null,
   "metadata": {},
   "outputs": [],
   "source": [
    "num1 = input(\"Enter a num\")\n",
    "num2 = input(\"enter the second num\")\n",
    "print(\"num1 :\" ,num1)\n",
    "print(\"num2 :\",num2)\n",
    "num3 = num2 \n",
    "num2 = num1\n",
    "num1 = num3\n",
    "print(\"\\nnum1 :\" ,num1)\n",
    "print(\"num2 :\",num2)"
   ]
  },
  {
   "cell_type": "code",
   "execution_count": null,
   "metadata": {},
   "outputs": [],
   "source": [
    "'''\n",
    "                        ARITHMETIC OPERATORS\n",
    "    \n",
    "        +\n",
    "        -\n",
    "        *\n",
    "        / ( FLOAT DIVISION )\n",
    "        %\n",
    "        // ( FLOOR DIVISION )\n",
    "        ** ( EXPONENT )\n",
    "'''\n",
    "\n",
    "x = 15\n",
    "y = 4\n",
    "\n",
    "print('x + y =',x+y) #19\n",
    "print('x - y =',x-y) #11\n",
    "print('x * y =',x*y) #60\n",
    "print('x / y =',x/y) #3.75\n",
    "print('x // y =',x//y) #3\n",
    "print('x ** y =',x**y) #50625"
   ]
  },
  {
   "cell_type": "code",
   "execution_count": null,
   "metadata": {},
   "outputs": [],
   "source": [
    "'''\n",
    "                    COMPARISON OPERATORS\n",
    "    \n",
    "        <\n",
    "        >\n",
    "        <=\n",
    "        >=\n",
    "        !=\n",
    "        ==\n",
    "'''\n",
    "\n",
    "x = 10\n",
    "y = 12\n",
    "\n",
    "print('x > y is',x>y) #0\n",
    "print('x < y is',x<y) #1\n",
    "print('x == y is',x==y)#0\n",
    "print('x != y is',x!=y)#1\n",
    "print('x >= y is',x>=y)#0\n",
    "print('x <= y is',x<=y)#1"
   ]
  },
  {
   "cell_type": "code",
   "execution_count": null,
   "metadata": {},
   "outputs": [],
   "source": [
    "'''\n",
    "                            LOGICAL OPERATORS\n",
    "        \n",
    "        and\n",
    "        or\n",
    "        not\n",
    "\n",
    "'''\n",
    "\n",
    "x = True\n",
    "y = False\n",
    "\n",
    "print('x and y is',x and y) # f\n",
    "\n",
    "print('x or y is',x or y)  #T\n",
    "\n",
    "print('not x is',not x) #f\n",
    "\n"
   ]
  },
  {
   "cell_type": "code",
   "execution_count": null,
   "metadata": {},
   "outputs": [],
   "source": [
    "'''\n",
    "                        ASSIGNMENT OPERATORS\n",
    "        \n",
    "        =\n",
    "        +=\n",
    "        -=\n",
    "        *=\n",
    "        /=\n",
    "        %=\n",
    "        //=\n",
    "        **=\n",
    "'''"
   ]
  },
  {
   "cell_type": "code",
   "execution_count": null,
   "metadata": {},
   "outputs": [],
   "source": [
    "'''\n",
    "                        IDENTITY OPERATORS\n",
    "\n",
    "        is\n",
    "        is not\n",
    "\n",
    "'''\n",
    "\n",
    "x1 = 5\n",
    "y1 = 5\n",
    "x2 = 'Hello'\n",
    "y2 = 'Hello'\n",
    "x3 = [1,2,3]\n",
    "y3 = [1,2,3]\n",
    "\n",
    "print(x1 is not y1) #f\n",
    "print(x2 is y2) #t\n",
    "print(x3 is y3) #f"
   ]
  },
  {
   "cell_type": "code",
   "execution_count": null,
   "metadata": {},
   "outputs": [],
   "source": [
    "'''\n",
    "                            MEMBERSHIP OPERATORS\n",
    "\n",
    "        in\n",
    "        not in\n",
    "'''\n",
    "\n",
    "x = 'Hello world'\n",
    "y = {1:'a',2:'b'}\n",
    "\n",
    "print('H' in x) #t\n",
    "print('hello' not in x) #t\n",
    "print(1 in y) #t\n",
    "print('a' in y) #f"
   ]
  },
  {
   "cell_type": "code",
   "execution_count": null,
   "metadata": {},
   "outputs": [],
   "source": [
    "if False:\n",
    "    print(\"1\")\n",
    "elif False:\n",
    "    print(\"2\")\n",
    "else:\n",
    "    print(\"else\")\n"
   ]
  },
  {
   "cell_type": "code",
   "execution_count": null,
   "metadata": {},
   "outputs": [],
   "source": [
    "num = int(input(\"Ur num ?\"))\n",
    "if num < 0:\n",
    "    print(\"num is negative\")\n",
    "elif num > 0:\n",
    "    print(\"num is pozitif\")\n",
    "else:\n",
    "    print(\"ur num is zero\")"
   ]
  },
  {
   "cell_type": "code",
   "execution_count": null,
   "metadata": {},
   "outputs": [],
   "source": [
    "num1 = int(input(\"first num is : \"))\n",
    "num2 = int(input(\"sec num is : \"))\n",
    "num3 = int(input(\"third num is : \"))\n",
    "\n",
    "if num1 > num2 > num3:\n",
    "    print(\"num1 is the biggest and num2 second and nuö3 is the final\")\n",
    "elif num1 > num3 > num2:\n",
    "    print(\"num1 is the biggest and second num3 and the smallest is num2\") \n",
    "elif num2 > num1 > num3:\n",
    "    print(\"num2 is the biggest and second num1 and the smallest is num3\")\n",
    "elif num2 > num3 > num1:\n",
    "    print(\"num2 is the biggest and second num3 and the smallest is num1\")   \n",
    "elif num3 > num1 > num2:\n",
    "    print(\"num3 is the biggest and second num1 and the smallest is num2\")   \n",
    "elif num3 > num2 > num1:    \n",
    "    print(\"num3 is the biggest and second num2 and the smallest is num1\")\n",
    "else:\n",
    "    print(\"smt went wrong\")\n",
    "\n",
    "\n",
    "if num1 > num2 and num1 > num3:\n",
    "    if num2 > num3:\n",
    "        print(num1,num2,num3)\n",
    "    else:\n",
    "        print(num1,num3,num2)\n",
    "elif num2 > num3 and num2 > num1:\n",
    "    if num1 > num3:\n",
    "        print(num2,num1,num3)\n",
    "    else:\n",
    "        print(num2,num3,num1)\n",
    "else:\n",
    "    if num1 > num2:\n",
    "        print(num3,num1,num2)\n",
    "    else:\n",
    "        print(num3,num2,num1)"
   ]
  },
  {
   "cell_type": "code",
   "execution_count": null,
   "metadata": {},
   "outputs": [],
   "source": [
    "x = [11,2,3,4,5]\n",
    "\n",
    "for i in x:\n",
    "    print(i)"
   ]
  },
  {
   "cell_type": "code",
   "execution_count": null,
   "metadata": {},
   "outputs": [],
   "source": [
    "for i in range(1000):\n",
    "    print(\"Hello\",i)"
   ]
  },
  {
   "cell_type": "code",
   "execution_count": null,
   "metadata": {},
   "outputs": [],
   "source": [
    "list(range(20,2,-2))"
   ]
  },
  {
   "cell_type": "code",
   "execution_count": null,
   "metadata": {},
   "outputs": [],
   "source": [
    "import numpy as np\n",
    "\n",
    "collection = list(np.random.randint(100, size = 10))\n",
    "\n",
    "print(collection)\n",
    "\n",
    "idx = 0\n",
    "for i in collection:\n",
    "    collection[idx] = i*2\n",
    "    idx += 1\n",
    "\n",
    "collection"
   ]
  },
  {
   "cell_type": "code",
   "execution_count": null,
   "metadata": {},
   "outputs": [],
   "source": [
    "import numpy as np\n",
    "collection2 = list(np.random.randint(100, size = 10))\n",
    "nums = []\n",
    "print(collection2)\n",
    "index = 0\n",
    "for a in collection2:\n",
    "    if (collection2[index] %2 == 0):\n",
    "        nums.append(collection2[index])\n",
    "    index += 1\n",
    "print(nums)    "
   ]
  },
  {
   "cell_type": "code",
   "execution_count": null,
   "metadata": {},
   "outputs": [],
   "source": [
    "collection2 = list(np.random.randint(100, size = 10))\n",
    "\n",
    "for i in collection2:\n",
    "    if i % 2 == 0:\n",
    "        print(i)"
   ]
  },
  {
   "cell_type": "code",
   "execution_count": null,
   "metadata": {},
   "outputs": [],
   "source": [
    "list(filter(lambda x: x%2 == 0, collection2))"
   ]
  },
  {
   "cell_type": "code",
   "execution_count": null,
   "metadata": {},
   "outputs": [],
   "source": [
    "[x for x in collection2 if x % 2 == 0]"
   ]
  },
  {
   "cell_type": "code",
   "execution_count": null,
   "metadata": {},
   "outputs": [],
   "source": [
    "num = 0\n",
    "\n",
    "while num < 10:\n",
    "    print(num)\n",
    "    num += 1"
   ]
  },
  {
   "cell_type": "code",
   "execution_count": null,
   "metadata": {},
   "outputs": [],
   "source": [
    "sum = 0\n",
    "num = 0\n",
    "\n",
    "while num >= 0:\n",
    "    sum += num\n",
    "    num = int(input(\"enter ur num\"))\n",
    "\n",
    "print(sum)\n"
   ]
  },
  {
   "cell_type": "code",
   "execution_count": null,
   "metadata": {},
   "outputs": [],
   "source": [
    "for x in range(120):\n",
    "    pass\n",
    "print(\"AA\")"
   ]
  },
  {
   "cell_type": "code",
   "execution_count": null,
   "metadata": {},
   "outputs": [],
   "source": [
    "def greet(name):\n",
    "    print(\"Hello\",name)"
   ]
  },
  {
   "cell_type": "code",
   "execution_count": null,
   "metadata": {},
   "outputs": [],
   "source": [
    "greet(\"Mert\")"
   ]
  },
  {
   "cell_type": "code",
   "execution_count": null,
   "metadata": {},
   "outputs": [],
   "source": [
    "def solve(num):\n",
    "    sum = 1\n",
    "    for i in range(num,0,-1):\n",
    "        sum *= i # sum = sum * i\n",
    "    return sum"
   ]
  },
  {
   "cell_type": "code",
   "execution_count": null,
   "metadata": {},
   "outputs": [],
   "source": [
    "num = int(input(\"ur num : \"))\n",
    "solve(num)"
   ]
  },
  {
   "cell_type": "code",
   "execution_count": null,
   "metadata": {},
   "outputs": [],
   "source": [
    "def power(base,exp):\n",
    "    final = 1\n",
    "    for i in range(exp):\n",
    "        final *= base # final = final * base\n",
    "    return final"
   ]
  },
  {
   "cell_type": "code",
   "execution_count": null,
   "metadata": {},
   "outputs": [],
   "source": [
    "base = int(input(\"ur num : \"))\n",
    "exp = int(input(\"ur num : \"))\n",
    "\n",
    "power(base,exp)"
   ]
  },
  {
   "cell_type": "code",
   "execution_count": null,
   "metadata": {},
   "outputs": [],
   "source": [
    "def fibo(num):      # 0 1 1 2 3 5 8 13 21 34 55\n",
    "    if num < 2:\n",
    "        return num-1\n",
    "    \n",
    "    fTerm = 0\n",
    "    sTerm = 1\n",
    "    nextTerm = fTerm + sTerm\n",
    "\n",
    "    for i in range(num-2):\n",
    "        nextTerm = fTerm + sTerm\n",
    "        fTerm = sTerm\n",
    "        sTerm = nextTerm\n",
    "    return nextTerm"
   ]
  },
  {
   "cell_type": "code",
   "execution_count": null,
   "metadata": {},
   "outputs": [],
   "source": [
    "fibo(8)"
   ]
  },
  {
   "cell_type": "code",
   "execution_count": null,
   "metadata": {},
   "outputs": [],
   "source": [
    "def absolute(num):\n",
    "    if num < 0:\n",
    "        num *= -1\n",
    "    return num    "
   ]
  },
  {
   "cell_type": "code",
   "execution_count": null,
   "metadata": {},
   "outputs": [],
   "source": [
    "num = int(input(\"Enter ur Number : \"))\n",
    "absolute(num)"
   ]
  },
  {
   "cell_type": "code",
   "execution_count": null,
   "metadata": {},
   "outputs": [],
   "source": [
    "def volume(str):\n",
    "    ans = \"\"\n",
    "    for i in str:\n",
    "        if not i.isdigit():\n",
    "            ans += i\n",
    "    return ans         \n",
    "            "
   ]
  },
  {
   "cell_type": "code",
   "execution_count": null,
   "metadata": {},
   "outputs": [],
   "source": [
    "str = \"A1561YB54E1R15K\"\n",
    "volume(str)"
   ]
  },
  {
   "cell_type": "code",
   "execution_count": null,
   "metadata": {},
   "outputs": [],
   "source": [
    "def digits(str):\n",
    "    nums = \"\"\n",
    "    for e in str:\n",
    "        if e.isdigit():\n",
    "            nums += e\n",
    "    return nums"
   ]
  },
  {
   "cell_type": "code",
   "execution_count": null,
   "metadata": {},
   "outputs": [],
   "source": [
    "str = \"A1561YB54E1R15K\"\n",
    "digits(str)"
   ]
  },
  {
   "cell_type": "code",
   "execution_count": null,
   "metadata": {},
   "outputs": [],
   "source": [
    "def problem(str1,str2):\n",
    "    # 'Ay124be51rk' , 'm85Er44t4'\n",
    "    str1nums = \"\"\n",
    "    str2nums = \"\"\n",
    "    for e in str1:\n",
    "        if e.isdigit():\n",
    "            str1nums += e\n",
    "    for a in str2:\n",
    "        if a.isdigit():\n",
    "            str2nums += a\n",
    "    ans = int(str1nums) + int(str2nums)\n",
    "    return ans"
   ]
  },
  {
   "cell_type": "code",
   "execution_count": null,
   "metadata": {},
   "outputs": [],
   "source": [
    "problem(\"Ay124be51rk\",\"m85Er44t4\")"
   ]
  },
  {
   "cell_type": "code",
   "execution_count": null,
   "metadata": {},
   "outputs": [],
   "source": [
    "def removeVowels(str):\n",
    "    Vowels = {\"e\",\"o\",\"i\",\"a\",\"u\",\"I\",\"E\",\"O\",\"A\",\"U\"}\n",
    "    ans = \"\"\n",
    "    for i in str:\n",
    "        if i not in Vowels:\n",
    "            ans += i\n",
    "    return ans"
   ]
  },
  {
   "cell_type": "code",
   "execution_count": null,
   "metadata": {},
   "outputs": [],
   "source": [
    "removeVowels(\"I will go home today.\")"
   ]
  },
  {
   "cell_type": "code",
   "execution_count": null,
   "metadata": {},
   "outputs": [],
   "source": [
    "def howMany(str):\n",
    "    letters = {}\n",
    "    idx = 0\n",
    "    for i in str:\n",
    "        freq = 0\n",
    "        letters[i] = freq\n",
    "        for j in str[idx:]:\n",
    "            if i == j:\n",
    "                freq += 1\n",
    "                letters[i] = freq\n",
    "    return letters\n",
    "\n",
    "\n"
   ]
  },
  {
   "cell_type": "code",
   "execution_count": null,
   "metadata": {},
   "outputs": [],
   "source": [
    "howMany(\"It was a rainy day. The man that wears black suit was watching young couple.\")"
   ]
  },
  {
   "cell_type": "code",
   "execution_count": null,
   "metadata": {},
   "outputs": [],
   "source": [
    "from cmath import inf\n",
    "\n",
    "def strSol(string):\n",
    "    minN = inf\n",
    "    maxN = 0\n",
    "\n",
    "    minC = \"\"\n",
    "    maxC = \"\"\n",
    "\n",
    "    for i in string:\n",
    "        if string.count(i) > maxN:\n",
    "            maxN = string.count(i)\n",
    "            maxC = i\n",
    "        if string.count(i) < minN:\n",
    "            minN = string.count(i)\n",
    "            minC = i\n",
    "\n",
    "    print(\"\\'\"+ minC+\"\\' - \" + str(minN))\n",
    "    print(\"\\'\"+ maxC+\"\\' - \" + str(maxN))"
   ]
  },
  {
   "cell_type": "code",
   "execution_count": null,
   "metadata": {},
   "outputs": [],
   "source": [
    "strSol(\"It was a rainy day. The man that wears black suit was watching young couple.\")"
   ]
  },
  {
   "cell_type": "code",
   "execution_count": 3,
   "metadata": {},
   "outputs": [
    {
     "data": {
      "text/plain": [
       "['HellO', 'WorlD', 'MY', 'NamE', 'IS', 'MerT']"
      ]
     },
     "execution_count": 3,
     "metadata": {},
     "output_type": "execute_result"
    }
   ],
   "source": [
    "entry = input(\"Ur String : \") # hello world\n",
    "\n",
    "seperate = entry.split(\" \")\n",
    "\n",
    "idx = 0\n",
    "for str in seperate:\n",
    "    seperate[idx] = str.replace(str[0],str[0].upper())\n",
    "    str = seperate[idx]\n",
    "    seperate[idx] = str.replace(str[len(str)-1],str[len(str)-1].upper())\n",
    "    idx += 1\n",
    "seperate"
   ]
  },
  {
   "cell_type": "code",
   "execution_count": null,
   "metadata": {},
   "outputs": [],
   "source": [
    "string = \"GinaaaaaaaaaaaaaaaPPPPPProtttttijayi\"\n",
    "\n",
    "j = 0\n",
    "\n",
    "while len(string) != 0:\n",
    "\n",
    "    for i in range(len(string)):\n",
    "        counter = 1\n",
    "        for j in range(i+1,len(string)):\n",
    "            if string[i] == string[j]:\n",
    "                counter += 1\n",
    "        print(string[i],\"->\",counter)\n",
    "        string = string.replace(string[i],\"\")\n",
    "        break"
   ]
  }
 ],
 "metadata": {
  "kernelspec": {
   "display_name": "Python 3.10.8 64-bit",
   "language": "python",
   "name": "python3"
  },
  "language_info": {
   "codemirror_mode": {
    "name": "ipython",
    "version": 3
   },
   "file_extension": ".py",
   "mimetype": "text/x-python",
   "name": "python",
   "nbconvert_exporter": "python",
   "pygments_lexer": "ipython3",
   "version": "3.10.8"
  },
  "orig_nbformat": 4,
  "vscode": {
   "interpreter": {
    "hash": "0d16ba4b53609843de40e7f26596a7b92c4c8638579f14216398d65ad12ac973"
   }
  }
 },
 "nbformat": 4,
 "nbformat_minor": 2
}
